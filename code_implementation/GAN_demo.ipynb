{
 "cells": [
  {
   "cell_type": "markdown",
   "id": "92ab1516",
   "metadata": {},
   "source": [
    "# Import"
   ]
  },
  {
   "cell_type": "code",
   "execution_count": null,
   "id": "f84d2cc9",
   "metadata": {},
   "outputs": [],
   "source": [
    "# only use CPU\n",
    "import os\n",
    "os.environ[\"CUDA_VISIBLE_DEVICES\"]=\"-1\" "
   ]
  },
  {
   "cell_type": "code",
   "execution_count": null,
   "id": "62b13c13",
   "metadata": {},
   "outputs": [],
   "source": [
    "import tensorflow as tf\n",
    "import tensorflow.keras.backend as K\n",
    "import numpy as np\n",
    "import importlib"
   ]
  },
  {
   "cell_type": "code",
   "execution_count": null,
   "id": "f1e9c0dd",
   "metadata": {},
   "outputs": [],
   "source": [
    "# models\n",
    "import models.sdf as SDF\n",
    "import models.conditional as Conditional\n",
    "\n",
    "# loss\n",
    "import models.loss as Loss\n",
    "\n",
    "# training\n",
    "import models.training as Training\n",
    "\n",
    "# data\n",
    "import models.data as Data"
   ]
  },
  {
   "cell_type": "code",
   "execution_count": null,
   "id": "8404e29e",
   "metadata": {},
   "outputs": [],
   "source": [
    "# gpu_lst = tf.config.list_physical_devices(\"GPU\")\n",
    "# if not gpu_lst:\n",
    "#     raise Exception(\"No GPU\")"
   ]
  },
  {
   "cell_type": "markdown",
   "id": "3ef11781",
   "metadata": {},
   "source": [
    "# Data"
   ]
  },
  {
   "cell_type": "code",
   "execution_count": null,
   "id": "032fd411",
   "metadata": {},
   "outputs": [],
   "source": [
    "path = \"../../datasets\""
   ]
  },
  {
   "cell_type": "code",
   "execution_count": null,
   "id": "1e2dc81c",
   "metadata": {},
   "outputs": [],
   "source": [
    "ls ../../datasets"
   ]
  },
  {
   "cell_type": "markdown",
   "id": "76dc6a8e",
   "metadata": {},
   "source": [
    "## Macro data"
   ]
  },
  {
   "cell_type": "code",
   "execution_count": null,
   "id": "06068a0e",
   "metadata": {},
   "outputs": [],
   "source": [
    "macro_path = f\"{path}/macro/macro_train.npz\""
   ]
  },
  {
   "cell_type": "code",
   "execution_count": null,
   "id": "77228f04",
   "metadata": {},
   "outputs": [],
   "source": [
    "macro_data = np.load(macro_path)"
   ]
  },
  {
   "cell_type": "code",
   "execution_count": null,
   "id": "349c35ce",
   "metadata": {},
   "outputs": [],
   "source": [
    "macro_data.files"
   ]
  },
  {
   "cell_type": "code",
   "execution_count": null,
   "id": "de4914d4",
   "metadata": {},
   "outputs": [],
   "source": [
    "macro_data[\"data\"].shape"
   ]
  },
  {
   "cell_type": "markdown",
   "id": "7a1155f0",
   "metadata": {},
   "source": [
    "1. 178 macro features\n",
    "2. 240 time entries"
   ]
  },
  {
   "cell_type": "code",
   "execution_count": null,
   "id": "3be4a28c",
   "metadata": {},
   "outputs": [],
   "source": [
    "# each date entry has 178 macro features\n",
    "macro_data[\"data\"][0].shape"
   ]
  },
  {
   "cell_type": "markdown",
   "id": "8d9e9c99",
   "metadata": {},
   "source": [
    "## Firm data"
   ]
  },
  {
   "cell_type": "code",
   "execution_count": null,
   "id": "98644cb8",
   "metadata": {},
   "outputs": [],
   "source": [
    "firm_path = f\"{path}/char/Char_train.npz\""
   ]
  },
  {
   "cell_type": "code",
   "execution_count": null,
   "id": "76ce9227",
   "metadata": {},
   "outputs": [],
   "source": [
    "firm_data = np.load(firm_path)"
   ]
  },
  {
   "cell_type": "code",
   "execution_count": null,
   "id": "0bb2c8e1",
   "metadata": {},
   "outputs": [],
   "source": [
    "firm_data.files"
   ]
  },
  {
   "cell_type": "code",
   "execution_count": null,
   "id": "e8164cf5",
   "metadata": {},
   "outputs": [],
   "source": [
    "firm_data[\"data\"].shape"
   ]
  },
  {
   "cell_type": "markdown",
   "id": "adbcc619",
   "metadata": {},
   "source": [
    "1. 46 firm-specific characteristics\n",
    "2. 1 excess return - to be used for SDF construction\n",
    "3. 240 time entry\n",
    "4. 3686 firms"
   ]
  },
  {
   "cell_type": "code",
   "execution_count": null,
   "id": "0f677229",
   "metadata": {},
   "outputs": [],
   "source": [
    "# each date entry has 3686 firms, 46 firm specific char + 1 return\n",
    "firm_data[\"data\"][0].shape"
   ]
  },
  {
   "cell_type": "markdown",
   "id": "3429a256",
   "metadata": {},
   "source": [
    "## Data cleaning"
   ]
  },
  {
   "cell_type": "code",
   "execution_count": null,
   "id": "2c8a53cc",
   "metadata": {},
   "outputs": [],
   "source": [
    "importlib.reload(Data)\n",
    "macro_train, firm_train, return_train, mask_train = Data.Data().clean(macro_data[\"data\"], firm_data[\"data\"])"
   ]
  },
  {
   "cell_type": "markdown",
   "id": "a3ad6711",
   "metadata": {},
   "source": [
    "Total time period: 240\n",
    "\n",
    "Total firms: 3686\n",
    "\n",
    "Total macro, firm features: 178, 46"
   ]
  },
  {
   "cell_type": "code",
   "execution_count": null,
   "id": "b76454bb",
   "metadata": {},
   "outputs": [],
   "source": [
    "macro_train.shape, firm_train.shape, return_train.shape, mask_train.shape"
   ]
  },
  {
   "cell_type": "code",
   "execution_count": null,
   "id": "fed0baf1",
   "metadata": {},
   "outputs": [],
   "source": [
    "n = 5\n",
    "sample = [\n",
    "    macro_train[:, :, :],\n",
    "    firm_train[:, :n, :],\n",
    "    return_train[:, :n],\n",
    "    mask_train[:, :n]\n",
    "]"
   ]
  },
  {
   "cell_type": "code",
   "execution_count": null,
   "id": "5b70f27c",
   "metadata": {},
   "outputs": [],
   "source": [
    "# we take 5 samples to test run\n",
    "for _ in sample:\n",
    "    print(_.shape)"
   ]
  },
  {
   "cell_type": "markdown",
   "id": "a6ebf4e6",
   "metadata": {},
   "source": [
    "# Models"
   ]
  },
  {
   "cell_type": "markdown",
   "id": "b413117e",
   "metadata": {},
   "source": [
    "## SDF"
   ]
  },
  {
   "cell_type": "code",
   "execution_count": null,
   "id": "b4a3db9b",
   "metadata": {},
   "outputs": [],
   "source": [
    "importlib.reload(SDF)\n",
    "sdf = SDF.SDFModel()\n",
    "sdf(sample).shape"
   ]
  },
  {
   "cell_type": "code",
   "execution_count": null,
   "id": "f4f262d4",
   "metadata": {
    "scrolled": false
   },
   "outputs": [],
   "source": [
    "sdf.summary()"
   ]
  },
  {
   "cell_type": "code",
   "execution_count": null,
   "id": "e36a7c41",
   "metadata": {},
   "outputs": [],
   "source": [
    "importlib.reload(Conditional)\n",
    "conditional = Conditional.ConditionalModel()\n",
    "conditional(sample).shape"
   ]
  },
  {
   "cell_type": "code",
   "execution_count": null,
   "id": "31e3900c",
   "metadata": {},
   "outputs": [],
   "source": [
    "conditional.summary()"
   ]
  },
  {
   "cell_type": "markdown",
   "id": "8a6de926",
   "metadata": {},
   "source": [
    "# Loss"
   ]
  },
  {
   "cell_type": "code",
   "execution_count": null,
   "id": "5bf40863",
   "metadata": {},
   "outputs": [],
   "source": [
    "importlib.reload(Loss)\n",
    "pricing_loss = Loss.PricingLoss()\n",
    "pricing_loss(\n",
    "    SDF = sdf(sample),\n",
    "    moment = conditional(sample),\n",
    "    return_data = sample[2],\n",
    "    mask = sample[3],\n",
    "weighted_loss=True)"
   ]
  },
  {
   "cell_type": "code",
   "execution_count": null,
   "id": "c9eda008",
   "metadata": {},
   "outputs": [],
   "source": [
    "pricing_loss.sharpe_loss(\n",
    "    sdf = sdf(sample)\n",
    ")"
   ]
  },
  {
   "cell_type": "code",
   "execution_count": null,
   "id": "2f3af32a",
   "metadata": {},
   "outputs": [],
   "source": [
    "pricing_loss.sharpe_loss(\n",
    "    normalize = True,\n",
    "    sdf_weight = sdf.trainable_weights[-2],\n",
    "    return_data = sample[2],\n",
    "    mask = sample[3]\n",
    ")"
   ]
  },
  {
   "cell_type": "code",
   "execution_count": null,
   "id": "efcfbf70",
   "metadata": {},
   "outputs": [],
   "source": [
    "pricing_loss.residual_loss(\n",
    "    return_data = sample[2],\n",
    "    mask = sample[3],\n",
    "    sdf_weight = sdf(sample)\n",
    ")"
   ]
  },
  {
   "cell_type": "code",
   "execution_count": null,
   "id": "51de2012",
   "metadata": {},
   "outputs": [],
   "source": [
    "Ni = tf.reduce_sum(tf.cast(sample[3], \"int32\"), axis=1)"
   ]
  },
  {
   "cell_type": "code",
   "execution_count": null,
   "id": "be0b41fa",
   "metadata": {},
   "outputs": [],
   "source": [
    "Ni.shape"
   ]
  },
  {
   "cell_type": "code",
   "execution_count": null,
   "id": "9f434701",
   "metadata": {},
   "outputs": [],
   "source": [
    "masked_return = tf.boolean_mask(sample[2], mask=sample[3])\n",
    "masked_return.shape"
   ]
  },
  {
   "cell_type": "code",
   "execution_count": null,
   "id": "c549f662",
   "metadata": {},
   "outputs": [],
   "source": [
    "sample[3].shape"
   ]
  },
  {
   "cell_type": "code",
   "execution_count": null,
   "id": "36c2bfa9",
   "metadata": {},
   "outputs": [],
   "source": [
    "sample[3]"
   ]
  },
  {
   "cell_type": "code",
   "execution_count": null,
   "id": "faae880a",
   "metadata": {},
   "outputs": [],
   "source": [
    "sample[3][0]"
   ]
  },
  {
   "cell_type": "code",
   "execution_count": null,
   "id": "31aca283",
   "metadata": {},
   "outputs": [],
   "source": [
    "sample[3].shape"
   ]
  },
  {
   "cell_type": "code",
   "execution_count": null,
   "id": "134b342f",
   "metadata": {},
   "outputs": [],
   "source": [
    "masked_return = tf.boolean_mask(sample[2], sample[3])"
   ]
  },
  {
   "cell_type": "code",
   "execution_count": null,
   "id": "00a32cde",
   "metadata": {},
   "outputs": [],
   "source": [
    "masked_return_lst = tf.split(masked_return, Ni)"
   ]
  },
  {
   "cell_type": "code",
   "execution_count": null,
   "id": "26dd35c6",
   "metadata": {},
   "outputs": [],
   "source": [
    "sdf(sample).shape"
   ]
  },
  {
   "cell_type": "code",
   "execution_count": null,
   "id": "68d285d4",
   "metadata": {},
   "outputs": [],
   "source": [
    "Ni.shape"
   ]
  },
  {
   "cell_type": "code",
   "execution_count": null,
   "id": "4497d99e",
   "metadata": {},
   "outputs": [],
   "source": [
    "tf.split(sdf(sample), Ni)"
   ]
  },
  {
   "cell_type": "markdown",
   "id": "5dad126d",
   "metadata": {},
   "source": [
    "# Training"
   ]
  },
  {
   "cell_type": "markdown",
   "id": "11866b25",
   "metadata": {},
   "source": [
    "Macro feature: 240 x 178\n",
    "Firm feature: 240 x ? x 46\n",
    "Return: 240 x ?\n",
    "Mask: 240 x ?"
   ]
  },
  {
   "cell_type": "code",
   "execution_count": null,
   "id": "8569712c",
   "metadata": {},
   "outputs": [],
   "source": [
    "importlib.reload(Training)\n",
    "trainer = Training.Trainer(loss=Loss.PricingLoss())\n",
    "optimizer = tf.keras.optimizers.Adam(learning_rate=0.001)"
   ]
  },
  {
   "cell_type": "code",
   "execution_count": null,
   "id": "7431a4f6",
   "metadata": {},
   "outputs": [],
   "source": [
    "trainer.train(\n",
    "    sdf_model=sdf,\n",
    "    conditional_model=conditional,\n",
    "    optimizer=optimizer,\n",
    "    inputs=sample,\n",
    "    sdf_epoches_unc=1,\n",
    "    moment_epoches=1,\n",
    "    sdf_epoches_cond=1,\n",
    "    steps=100\n",
    ")"
   ]
  },
  {
   "cell_type": "code",
   "execution_count": null,
   "id": "d3328d51",
   "metadata": {},
   "outputs": [],
   "source": []
  }
 ],
 "metadata": {
  "kernelspec": {
   "display_name": "Python 3",
   "language": "python",
   "name": "python3"
  },
  "language_info": {
   "codemirror_mode": {
    "name": "ipython",
    "version": 3
   },
   "file_extension": ".py",
   "mimetype": "text/x-python",
   "name": "python",
   "nbconvert_exporter": "python",
   "pygments_lexer": "ipython3",
   "version": "3.9.5"
  }
 },
 "nbformat": 4,
 "nbformat_minor": 5
}
