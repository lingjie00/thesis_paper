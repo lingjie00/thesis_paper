{
 "cells": [
  {
   "cell_type": "code",
   "execution_count": 44,
   "metadata": {
    "jupyter": {
     "outputs_hidden": true
    },
    "scrolled": true
   },
   "outputs": [],
   "source": [
    "import os\n",
    "import json\n",
    "import numpy as np\n",
    "import pandas as pd\n",
    "import seaborn as sns\n",
    "import tensorflow as tf\n",
    "\n",
    "from src.data import data_layer\n",
    "from src.model.model_utils import calculateStatistics\n",
    "from src.model.model_GAN import FeedForwardModelWithNA_GAN_Ensembled, FeedForwardModelWithNA_GAN\n",
    "from src.model.model_RtnFcst import FeedForwardModelWithNA_Return_Ensembled\n",
    "from src.utils import deco_print\n",
    "from src.utils import load_dataframe\n",
    "from src.utils import sharpe\n",
    "\n",
    "import tensorflow.contrib.slim as slim"
   ]
  },
  {
   "cell_type": "code",
   "execution_count": 10,
   "metadata": {},
   "outputs": [],
   "source": [
    "def model_summary():\n",
    "    model_vars = tf.trainable_variables()\n",
    "    slim.model_analyzer.analyze_vars(model_vars, print_info=True)"
   ]
  },
  {
   "cell_type": "markdown",
   "metadata": {},
   "source": [
    "##### Model Configurations"
   ]
  },
  {
   "cell_type": "code",
   "execution_count": 3,
   "metadata": {
    "jupyter": {
     "outputs_hidden": true
    }
   },
   "outputs": [],
   "source": [
    "task_id = 1\n",
    "logdirs = ['output/Task-%d-Trial-%d/sharpe' %(task_id, k) for k in range(9)]\n",
    "with open('config/config.json') as file:\n",
    "    config = json.load(file)\n",
    "    \n",
    "logdirs_RF = ['output_RF/Task-%d-Trial-%d' %(task_id, k) for k in range(9)]\n",
    "with open('config_RF/config_RF_%d.json'%(task_id)) as file:\n",
    "    config_RF = json.load(file)"
   ]
  },
  {
   "cell_type": "code",
   "execution_count": 7,
   "metadata": {},
   "outputs": [
    {
     "name": "stdout",
     "output_type": "stream",
     "text": [
      "GAN  checkpoint\t\t\t     model-best.index\r\n",
      "UNC  model-best.data-00000-of-00001  model-best.meta\r\n"
     ]
    }
   ],
   "source": [
    "!ls output/sharpe"
   ]
  },
  {
   "cell_type": "code",
   "execution_count": 4,
   "metadata": {},
   "outputs": [
    {
     "data": {
      "text/plain": [
       "['output/Task-1-Trial-0/sharpe',\n",
       " 'output/Task-1-Trial-1/sharpe',\n",
       " 'output/Task-1-Trial-2/sharpe',\n",
       " 'output/Task-1-Trial-3/sharpe',\n",
       " 'output/Task-1-Trial-4/sharpe',\n",
       " 'output/Task-1-Trial-5/sharpe',\n",
       " 'output/Task-1-Trial-6/sharpe',\n",
       " 'output/Task-1-Trial-7/sharpe',\n",
       " 'output/Task-1-Trial-8/sharpe']"
      ]
     },
     "execution_count": 4,
     "metadata": {},
     "output_type": "execute_result"
    }
   ],
   "source": [
    "logdirs"
   ]
  },
  {
   "cell_type": "code",
   "execution_count": 22,
   "metadata": {},
   "outputs": [],
   "source": [
    "logdirs = [\"output/sharpe\"]"
   ]
  },
  {
   "cell_type": "markdown",
   "metadata": {},
   "source": [
    "##### Load Data"
   ]
  },
  {
   "cell_type": "code",
   "execution_count": 8,
   "metadata": {
    "jupyter": {
     "outputs_hidden": true
    }
   },
   "outputs": [],
   "source": [
    "dl = data_layer.DataInRamInputLayer(config['individual_feature_file'],\n",
    "                                    pathMacroFeature=config['macro_feature_file'])\n",
    "meanMacroFeature, stdMacroFeature = dl.getMacroFeatureMeanStd()\n",
    "dl_valid = data_layer.DataInRamInputLayer(config['individual_feature_file_valid'],\n",
    "                                          pathMacroFeature=config['macro_feature_file_valid'],\n",
    "                                          meanMacroFeature=meanMacroFeature,\n",
    "                                          stdMacroFeature=stdMacroFeature)\n",
    "dl_test = data_layer.DataInRamInputLayer(config['individual_feature_file_test'],\n",
    "                                         pathMacroFeature=config['macro_feature_file_test'],\n",
    "                                         meanMacroFeature=meanMacroFeature,\n",
    "                                         stdMacroFeature=stdMacroFeature)"
   ]
  },
  {
   "cell_type": "code",
   "execution_count": 42,
   "metadata": {},
   "outputs": [
    {
     "data": {
      "text/plain": [
       "'A2ME'"
      ]
     },
     "execution_count": 42,
     "metadata": {},
     "output_type": "execute_result"
    }
   ],
   "source": [
    "dl.getIndividualFeatureByIdx(0)"
   ]
  },
  {
   "cell_type": "code",
   "execution_count": 39,
   "metadata": {},
   "outputs": [
    {
     "name": "stdout",
     "output_type": "stream",
     "text": [
      "Help on DataInRamInputLayer in module src.data.data_layer object:\n",
      "\n",
      "class DataInRamInputLayer(builtins.object)\n",
      " |  Methods defined here:\n",
      " |  \n",
      " |  __init__(self, pathIndividualFeature, pathMacroFeature=None, macroIdx=None, meanMacroFeature=None, stdMacroFeature=None, normalizeMacroFeature=True)\n",
      " |      Initialize self.  See help(type(self)) for accurate signature.\n",
      " |  \n",
      " |  getDateByIdx(self, idx)\n",
      " |  \n",
      " |  getDateCountList(self)\n",
      " |  \n",
      " |  getDateList(self)\n",
      " |  \n",
      " |  getFeatureByIdx(self, idx)\n",
      " |  \n",
      " |  getIdxByIndividualFeature(self, var)\n",
      " |  \n",
      " |  getIndividualFeatureByIdx(self, idx)\n",
      " |  \n",
      " |  getIndividualFeatureColarLabelMap(self)\n",
      " |  \n",
      " |  getIndividualFeatureList(self)\n",
      " |  \n",
      " |  getMacroFeatureByIdx(self, idx)\n",
      " |  \n",
      " |  getMacroFeatureList(self)\n",
      " |  \n",
      " |  getMacroFeatureMeanStd(self)\n",
      " |  \n",
      " |  iterateOneEpoch(self, subEpoch=False)\n",
      " |  \n",
      " |  ----------------------------------------------------------------------\n",
      " |  Data descriptors defined here:\n",
      " |  \n",
      " |  __dict__\n",
      " |      dictionary for instance variables (if defined)\n",
      " |  \n",
      " |  __weakref__\n",
      " |      list of weak references to the object (if defined)\n",
      "\n"
     ]
    }
   ],
   "source": [
    "help(dl)"
   ]
  },
  {
   "cell_type": "code",
   "execution_count": 47,
   "metadata": {},
   "outputs": [],
   "source": [
    "# sample model\n",
    "sample_model = FeedForwardModelWithNA_GAN(config, 'test', config['tSize'], \n",
    "                                          force_var_reuse=True, global_step=global_step)"
   ]
  },
  {
   "cell_type": "code",
   "execution_count": 48,
   "metadata": {},
   "outputs": [
    {
     "name": "stdout",
     "output_type": "stream",
     "text": [
      "---------\n",
      "Variables: name (type shape) [size]\n",
      "---------\n",
      "Model_Layer/RNN_Layer/rnn/lstm_cell/kernel:0 (float32_ref 182x16) [2912, bytes: 11648]\n",
      "Model_Layer/RNN_Layer/rnn/lstm_cell/bias:0 (float32_ref 16) [16, bytes: 64]\n",
      "Model_Layer/NN_Layer/dense_layer_0/dense/kernel:0 (float32_ref 50x64) [3200, bytes: 12800]\n",
      "Model_Layer/NN_Layer/dense_layer_0/dense/bias:0 (float32_ref 64) [64, bytes: 256]\n",
      "Model_Layer/NN_Layer/dense_layer_1/dense/kernel:0 (float32_ref 64x64) [4096, bytes: 16384]\n",
      "Model_Layer/NN_Layer/dense_layer_1/dense/bias:0 (float32_ref 64) [64, bytes: 256]\n",
      "Model_Layer/NN_Layer/last_dense_layer/dense/kernel:0 (float32_ref 64x1) [64, bytes: 256]\n",
      "Model_Layer/NN_Layer/last_dense_layer/dense/bias:0 (float32_ref 1) [1, bytes: 4]\n",
      "Moment_Layer/RNN_Layer/rnn/lstm_cell/kernel:0 (float32_ref 210x128) [26880, bytes: 107520]\n",
      "Moment_Layer/RNN_Layer/rnn/lstm_cell/bias:0 (float32_ref 128) [128, bytes: 512]\n",
      "Moment_Layer/NN_Layer/last_dense_layer/dense/kernel:0 (float32_ref 78x8) [624, bytes: 2496]\n",
      "Moment_Layer/NN_Layer/last_dense_layer/dense/bias:0 (float32_ref 8) [8, bytes: 32]\n",
      "Total size of variables: 38057\n",
      "Total bytes of variables: 152228\n"
     ]
    }
   ],
   "source": [
    "model_summary()"
   ]
  },
  {
   "cell_type": "markdown",
   "metadata": {},
   "source": [
    "##### Load Model"
   ]
  },
  {
   "cell_type": "code",
   "execution_count": 23,
   "metadata": {
    "jupyter": {
     "outputs_hidden": true
    }
   },
   "outputs": [],
   "source": [
    "tf.reset_default_graph()\n",
    "global_step = tf.train.get_or_create_global_step()\n",
    "model = FeedForwardModelWithNA_GAN_Ensembled(logdirs, config, 'test', config['tSize'], global_step=global_step)"
   ]
  },
  {
   "cell_type": "code",
   "execution_count": 24,
   "metadata": {},
   "outputs": [
    {
     "name": "stdout",
     "output_type": "stream",
     "text": [
      "---------\n",
      "Variables: name (type shape) [size]\n",
      "---------\n",
      "Model_Layer/RNN_Layer/rnn/lstm_cell/kernel:0 (float32_ref 182x16) [2912, bytes: 11648]\n",
      "Model_Layer/RNN_Layer/rnn/lstm_cell/bias:0 (float32_ref 16) [16, bytes: 64]\n",
      "Model_Layer/NN_Layer/dense_layer_0/dense/kernel:0 (float32_ref 50x64) [3200, bytes: 12800]\n",
      "Model_Layer/NN_Layer/dense_layer_0/dense/bias:0 (float32_ref 64) [64, bytes: 256]\n",
      "Model_Layer/NN_Layer/dense_layer_1/dense/kernel:0 (float32_ref 64x64) [4096, bytes: 16384]\n",
      "Model_Layer/NN_Layer/dense_layer_1/dense/bias:0 (float32_ref 64) [64, bytes: 256]\n",
      "Model_Layer/NN_Layer/last_dense_layer/dense/kernel:0 (float32_ref 64x1) [64, bytes: 256]\n",
      "Model_Layer/NN_Layer/last_dense_layer/dense/bias:0 (float32_ref 1) [1, bytes: 4]\n",
      "Moment_Layer/RNN_Layer/rnn/lstm_cell/kernel:0 (float32_ref 210x128) [26880, bytes: 107520]\n",
      "Moment_Layer/RNN_Layer/rnn/lstm_cell/bias:0 (float32_ref 128) [128, bytes: 512]\n",
      "Moment_Layer/NN_Layer/last_dense_layer/dense/kernel:0 (float32_ref 78x8) [624, bytes: 2496]\n",
      "Moment_Layer/NN_Layer/last_dense_layer/dense/bias:0 (float32_ref 8) [8, bytes: 32]\n",
      "Total size of variables: 38057\n",
      "Total bytes of variables: 152228\n"
     ]
    }
   ],
   "source": [
    "model_summary()"
   ]
  },
  {
   "cell_type": "code",
   "execution_count": 25,
   "metadata": {},
   "outputs": [],
   "source": [
    "model_valid = FeedForwardModelWithNA_GAN_Ensembled(logdirs, config, 'test', config['tSize_valid'], force_var_reuse=True, global_step=global_step)"
   ]
  },
  {
   "cell_type": "code",
   "execution_count": 26,
   "metadata": {},
   "outputs": [
    {
     "name": "stdout",
     "output_type": "stream",
     "text": [
      "---------\n",
      "Variables: name (type shape) [size]\n",
      "---------\n",
      "Model_Layer/RNN_Layer/rnn/lstm_cell/kernel:0 (float32_ref 182x16) [2912, bytes: 11648]\n",
      "Model_Layer/RNN_Layer/rnn/lstm_cell/bias:0 (float32_ref 16) [16, bytes: 64]\n",
      "Model_Layer/NN_Layer/dense_layer_0/dense/kernel:0 (float32_ref 50x64) [3200, bytes: 12800]\n",
      "Model_Layer/NN_Layer/dense_layer_0/dense/bias:0 (float32_ref 64) [64, bytes: 256]\n",
      "Model_Layer/NN_Layer/dense_layer_1/dense/kernel:0 (float32_ref 64x64) [4096, bytes: 16384]\n",
      "Model_Layer/NN_Layer/dense_layer_1/dense/bias:0 (float32_ref 64) [64, bytes: 256]\n",
      "Model_Layer/NN_Layer/last_dense_layer/dense/kernel:0 (float32_ref 64x1) [64, bytes: 256]\n",
      "Model_Layer/NN_Layer/last_dense_layer/dense/bias:0 (float32_ref 1) [1, bytes: 4]\n",
      "Moment_Layer/RNN_Layer/rnn/lstm_cell/kernel:0 (float32_ref 210x128) [26880, bytes: 107520]\n",
      "Moment_Layer/RNN_Layer/rnn/lstm_cell/bias:0 (float32_ref 128) [128, bytes: 512]\n",
      "Moment_Layer/NN_Layer/last_dense_layer/dense/kernel:0 (float32_ref 78x8) [624, bytes: 2496]\n",
      "Moment_Layer/NN_Layer/last_dense_layer/dense/bias:0 (float32_ref 8) [8, bytes: 32]\n",
      "Total size of variables: 38057\n",
      "Total bytes of variables: 152228\n"
     ]
    }
   ],
   "source": [
    "model_summary()"
   ]
  },
  {
   "cell_type": "code",
   "execution_count": 27,
   "metadata": {},
   "outputs": [],
   "source": [
    "model_test = FeedForwardModelWithNA_GAN_Ensembled(logdirs, config, 'test', config['tSize_test'], force_var_reuse=True, global_step=global_step)"
   ]
  },
  {
   "cell_type": "code",
   "execution_count": 28,
   "metadata": {},
   "outputs": [
    {
     "name": "stdout",
     "output_type": "stream",
     "text": [
      "---------\n",
      "Variables: name (type shape) [size]\n",
      "---------\n",
      "Model_Layer/RNN_Layer/rnn/lstm_cell/kernel:0 (float32_ref 182x16) [2912, bytes: 11648]\n",
      "Model_Layer/RNN_Layer/rnn/lstm_cell/bias:0 (float32_ref 16) [16, bytes: 64]\n",
      "Model_Layer/NN_Layer/dense_layer_0/dense/kernel:0 (float32_ref 50x64) [3200, bytes: 12800]\n",
      "Model_Layer/NN_Layer/dense_layer_0/dense/bias:0 (float32_ref 64) [64, bytes: 256]\n",
      "Model_Layer/NN_Layer/dense_layer_1/dense/kernel:0 (float32_ref 64x64) [4096, bytes: 16384]\n",
      "Model_Layer/NN_Layer/dense_layer_1/dense/bias:0 (float32_ref 64) [64, bytes: 256]\n",
      "Model_Layer/NN_Layer/last_dense_layer/dense/kernel:0 (float32_ref 64x1) [64, bytes: 256]\n",
      "Model_Layer/NN_Layer/last_dense_layer/dense/bias:0 (float32_ref 1) [1, bytes: 4]\n",
      "Moment_Layer/RNN_Layer/rnn/lstm_cell/kernel:0 (float32_ref 210x128) [26880, bytes: 107520]\n",
      "Moment_Layer/RNN_Layer/rnn/lstm_cell/bias:0 (float32_ref 128) [128, bytes: 512]\n",
      "Moment_Layer/NN_Layer/last_dense_layer/dense/kernel:0 (float32_ref 78x8) [624, bytes: 2496]\n",
      "Moment_Layer/NN_Layer/last_dense_layer/dense/bias:0 (float32_ref 8) [8, bytes: 32]\n",
      "Total size of variables: 38057\n",
      "Total bytes of variables: 152228\n"
     ]
    }
   ],
   "source": [
    "model_summary()"
   ]
  },
  {
   "cell_type": "code",
   "execution_count": 29,
   "metadata": {},
   "outputs": [],
   "source": [
    "model_plot = FeedForwardModelWithNA_GAN_Ensembled(logdirs, config, 'plot', 1, force_var_reuse=True, global_step=global_step)"
   ]
  },
  {
   "cell_type": "code",
   "execution_count": 30,
   "metadata": {},
   "outputs": [
    {
     "name": "stdout",
     "output_type": "stream",
     "text": [
      "---------\n",
      "Variables: name (type shape) [size]\n",
      "---------\n",
      "Model_Layer/RNN_Layer/rnn/lstm_cell/kernel:0 (float32_ref 182x16) [2912, bytes: 11648]\n",
      "Model_Layer/RNN_Layer/rnn/lstm_cell/bias:0 (float32_ref 16) [16, bytes: 64]\n",
      "Model_Layer/NN_Layer/dense_layer_0/dense/kernel:0 (float32_ref 50x64) [3200, bytes: 12800]\n",
      "Model_Layer/NN_Layer/dense_layer_0/dense/bias:0 (float32_ref 64) [64, bytes: 256]\n",
      "Model_Layer/NN_Layer/dense_layer_1/dense/kernel:0 (float32_ref 64x64) [4096, bytes: 16384]\n",
      "Model_Layer/NN_Layer/dense_layer_1/dense/bias:0 (float32_ref 64) [64, bytes: 256]\n",
      "Model_Layer/NN_Layer/last_dense_layer/dense/kernel:0 (float32_ref 64x1) [64, bytes: 256]\n",
      "Model_Layer/NN_Layer/last_dense_layer/dense/bias:0 (float32_ref 1) [1, bytes: 4]\n",
      "Moment_Layer/RNN_Layer/rnn/lstm_cell/kernel:0 (float32_ref 210x128) [26880, bytes: 107520]\n",
      "Moment_Layer/RNN_Layer/rnn/lstm_cell/bias:0 (float32_ref 128) [128, bytes: 512]\n",
      "Moment_Layer/NN_Layer/last_dense_layer/dense/kernel:0 (float32_ref 78x8) [624, bytes: 2496]\n",
      "Moment_Layer/NN_Layer/last_dense_layer/dense/bias:0 (float32_ref 8) [8, bytes: 32]\n",
      "Total size of variables: 38057\n",
      "Total bytes of variables: 152228\n"
     ]
    }
   ],
   "source": [
    "model_summary()"
   ]
  },
  {
   "cell_type": "code",
   "execution_count": 31,
   "metadata": {},
   "outputs": [],
   "source": [
    "gpu_options = tf.GPUOptions(allow_growth=True)\n",
    "sess_config = tf.ConfigProto(gpu_options=gpu_options)\n",
    "sess = tf.Session(config=sess_config)"
   ]
  },
  {
   "cell_type": "code",
   "execution_count": 32,
   "metadata": {
    "jupyter": {
     "outputs_hidden": true
    }
   },
   "outputs": [
    {
     "name": "stdout",
     "output_type": "stream",
     "text": [
      "INFO:tensorflow:Restoring parameters from output/sharpe/model-best\n",
      ">==================> Restored checkpoint\n",
      "INFO:tensorflow:Restoring parameters from output/sharpe/model-best\n",
      ">==================> Restored checkpoint\n"
     ]
    }
   ],
   "source": [
    "INITIAL_train = model.getZeroInitialState()\n",
    "INITIAL_valid = model.getNextInitialState(sess, dl, initial_state=INITIAL_train)\n",
    "INITIAL_test = model_valid.getNextInitialState(sess, dl_valid, initial_state=INITIAL_valid)"
   ]
  },
  {
   "cell_type": "markdown",
   "metadata": {},
   "source": [
    "##### Model Performance"
   ]
  },
  {
   "cell_type": "code",
   "execution_count": 33,
   "metadata": {
    "jupyter": {
     "outputs_hidden": true
    }
   },
   "outputs": [
    {
     "name": "stdout",
     "output_type": "stream",
     "text": [
      "INFO:tensorflow:Restoring parameters from output/sharpe/model-best\n",
      ">==================> Restored checkpoint\n",
      "INFO:tensorflow:Restoring parameters from output/sharpe/model-best\n",
      ">==================> Restored checkpoint\n",
      "INFO:tensorflow:Restoring parameters from output/sharpe/model-best\n",
      ">==================> Restored checkpoint\n"
     ]
    }
   ],
   "source": [
    "w = model.getWeightWithData(sess, dl, initial_state=INITIAL_train, normalized=True)\n",
    "w_valid = model_valid.getWeightWithData(sess, dl_valid, initial_state=INITIAL_valid, normalized=True)\n",
    "w_test = model_test.getWeightWithData(sess, dl_test, initial_state=INITIAL_test, normalized=True)"
   ]
  },
  {
   "cell_type": "code",
   "execution_count": 36,
   "metadata": {
    "jupyter": {
     "outputs_hidden": true
    }
   },
   "outputs": [
    {
     "name": "stdout",
     "output_type": "stream",
     "text": [
      "INFO:tensorflow:Restoring parameters from output/sharpe/model-best\n",
      ">==================> Restored checkpoint\n",
      "INFO:tensorflow:Restoring parameters from output/sharpe/model-best\n",
      ">==================> Restored checkpoint\n",
      "INFO:tensorflow:Restoring parameters from output/sharpe/model-best\n",
      ">==================> Restored checkpoint\n"
     ]
    }
   ],
   "source": [
    "Ftrain = model.getNormalizedSDFFactor(sess, dl, initial_state=INITIAL_train)\n",
    "Fvalid = model_valid.getNormalizedSDFFactor(sess, dl_valid, initial_state=INITIAL_valid)\n",
    "Ftest = model_test.getNormalizedSDFFactor(sess, dl_test, initial_state=INITIAL_test)\n",
    "sdf_norm_ensemble = np.concatenate([Ftrain, Fvalid, Ftest])\n",
    "np.save(os.path.join(logdirs[0], 'sdf_normalized_ensemble.npy'), sdf_norm_ensemble)"
   ]
  },
  {
   "cell_type": "code",
   "execution_count": 37,
   "metadata": {},
   "outputs": [
    {
     "name": "stdout",
     "output_type": "stream",
     "text": [
      ">==================> SDF Portfolio Sharpe Ratio: Train 2.48\tValid 0.80\tTest 0.42\n"
     ]
    }
   ],
   "source": [
    "SR_train = sharpe(Ftrain)\n",
    "SR_valid = sharpe(Fvalid)\n",
    "SR_test = sharpe(Ftest)\n",
    "deco_print('SDF Portfolio Sharpe Ratio: Train %0.2f\\tValid %0.2f\\tTest %0.2f' %(SR_train, SR_valid, SR_test))"
   ]
  },
  {
   "cell_type": "code",
   "execution_count": 8,
   "metadata": {
    "scrolled": true
   },
   "outputs": [
    {
     "name": "stdout",
     "output_type": "stream",
     "text": [
      ">==================> SDF Portfolio Sharpe Ratio: Train 3.02\tValid 1.39\tTest 0.77\n"
     ]
    }
   ],
   "source": [
    "SR_train = sharpe(Ftrain)\n",
    "SR_valid = sharpe(Fvalid)\n",
    "SR_test = sharpe(Ftest)\n",
    "deco_print('SDF Portfolio Sharpe Ratio: Train %0.2f\\tValid %0.2f\\tTest %0.2f' %(SR_train, SR_valid, SR_test))"
   ]
  },
  {
   "cell_type": "markdown",
   "metadata": {},
   "source": [
    "##### Predictive Performance"
   ]
  },
  {
   "cell_type": "code",
   "execution_count": 9,
   "metadata": {
    "collapsed": true,
    "jupyter": {
     "outputs_hidden": true
    }
   },
   "outputs": [],
   "source": [
    "tf.reset_default_graph()\n",
    "global_step = tf.train.get_or_create_global_step()\n",
    "model_plot_RF = FeedForwardModelWithNA_Return_Ensembled(logdirs_RF, config_RF, 'plot', global_step=global_step)\n",
    "gpu_options = tf.GPUOptions(allow_growth=True)\n",
    "sess_config = tf.ConfigProto(gpu_options=gpu_options)\n",
    "sess = tf.Session(config=sess_config)"
   ]
  },
  {
   "cell_type": "code",
   "execution_count": 10,
   "metadata": {
    "collapsed": true,
    "jupyter": {
     "outputs_hidden": true
    }
   },
   "outputs": [],
   "source": [
    "dl_RF_train = data_layer.DataInRamInputLayer(config['individual_feature_file'])\n",
    "dl_RF_valid = data_layer.DataInRamInputLayer(config['individual_feature_file_valid'])\n",
    "dl_RF_test = data_layer.DataInRamInputLayer(config['individual_feature_file_test'])"
   ]
  },
  {
   "cell_type": "code",
   "execution_count": null,
   "metadata": {
    "collapsed": true,
    "jupyter": {
     "outputs_hidden": true
    }
   },
   "outputs": [],
   "source": [
    "beta_train = model_plot_RF.getPrediction(sess, dl_RF_train)\n",
    "beta_valid = model_plot_RF.getPrediction(sess, dl_RF_valid)\n",
    "beta_test = model_plot_RF.getPrediction(sess, dl_RF_test)"
   ]
  },
  {
   "cell_type": "code",
   "execution_count": 12,
   "metadata": {
    "collapsed": true,
    "jupyter": {
     "outputs_hidden": true
    }
   },
   "outputs": [],
   "source": [
    "# EV, XS-R2\n",
    "EV_train, XSR2_train, WXSR2_train = calculateStatistics(beta_train, dl)\n",
    "EV_valid, XSR2_valid, WXSR2_valid = calculateStatistics(beta_valid, dl_valid)\n",
    "EV_test, XSR2_test, WXSR2_test = calculateStatistics(beta_test, dl_test)"
   ]
  },
  {
   "cell_type": "code",
   "execution_count": 13,
   "metadata": {},
   "outputs": [
    {
     "name": "stdout",
     "output_type": "stream",
     "text": [
      ">==================> Explained Variation: Train 0.18\tValid 0.08\tTest 0.07\n",
      ">==================> XS-R2: Train -0.02\tValid 0.04\tTest 0.04\n",
      ">==================> (Weighted) XS-R2: Train 0.12\tValid 0.00\tTest 0.22\n"
     ]
    }
   ],
   "source": [
    "deco_print('Explained Variation: Train %0.2f\\tValid %0.2f\\tTest %0.2f' %(EV_train, EV_valid, EV_test))\n",
    "deco_print('XS-R2: Train %0.2f\\tValid %0.2f\\tTest %0.2f' %(XSR2_train, XSR2_valid, XSR2_test))\n",
    "deco_print('(Weighted) XS-R2: Train %0.2f\\tValid %0.2f\\tTest %0.2f' %(WXSR2_train, WXSR2_valid, WXSR2_test))"
   ]
  },
  {
   "cell_type": "code",
   "execution_count": null,
   "metadata": {
    "collapsed": true,
    "jupyter": {
     "outputs_hidden": true
    }
   },
   "outputs": [],
   "source": []
  }
 ],
 "metadata": {
  "kernelspec": {
   "display_name": "Python 3",
   "language": "python",
   "name": "python3"
  },
  "language_info": {
   "codemirror_mode": {
    "name": "ipython",
    "version": 3
   },
   "file_extension": ".py",
   "mimetype": "text/x-python",
   "name": "python",
   "nbconvert_exporter": "python",
   "pygments_lexer": "ipython3",
   "version": "3.6.13"
  }
 },
 "nbformat": 4,
 "nbformat_minor": 4
}
