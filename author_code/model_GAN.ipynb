{
 "cells": [
  {
   "cell_type": "code",
   "execution_count": null,
   "metadata": {
    "collapsed": true,
    "jupyter": {
     "outputs_hidden": true
    },
    "scrolled": true
   },
   "outputs": [],
   "source": [
    "import os\n",
    "import json\n",
    "import numpy as np\n",
    "import pandas as pd\n",
    "import seaborn as sns\n",
    "import tensorflow as tf\n",
    "\n",
    "from src.data import data_layer\n",
    "from src.model.model_utils import calculateStatistics\n",
    "from src.model.model_GAN import FeedForwardModelWithNA_GAN_Ensembled\n",
    "from src.model.model_RtnFcst import FeedForwardModelWithNA_Return_Ensembled\n",
    "from src.utils import deco_print\n",
    "from src.utils import load_dataframe\n",
    "from src.utils import sharpe"
   ]
  },
  {
   "cell_type": "markdown",
   "metadata": {},
   "source": [
    "##### Model Configurations"
   ]
  },
  {
   "cell_type": "code",
   "execution_count": null,
   "metadata": {
    "collapsed": true,
    "jupyter": {
     "outputs_hidden": true
    }
   },
   "outputs": [],
   "source": [
    "task_id = 1\n",
    "logdirs = ['output/Task-%d-Trial-%d/sharpe' %(task_id, k) for k in range(9)]\n",
    "with open('config/config.json') as file:\n",
    "    config = json.load(file)\n",
    "    \n",
    "logdirs_RF = ['output_RF/Task-%d-Trial-%d' %(task_id, k) for k in range(9)]\n",
    "with open('config_RF/config_RF_%d.json'%(task_id)) as file:\n",
    "    config_RF = json.load(file)"
   ]
  },
  {
   "cell_type": "markdown",
   "metadata": {},
   "source": [
    "##### Load Data"
   ]
  },
  {
   "cell_type": "code",
   "execution_count": 3,
   "metadata": {
    "collapsed": true,
    "jupyter": {
     "outputs_hidden": true
    }
   },
   "outputs": [],
   "source": [
    "dl = data_layer.DataInRamInputLayer(config['individual_feature_file'],\n",
    "                                    pathMacroFeature=config['macro_feature_file'])\n",
    "meanMacroFeature, stdMacroFeature = dl.getMacroFeatureMeanStd()\n",
    "dl_valid = data_layer.DataInRamInputLayer(config['individual_feature_file_valid'],\n",
    "                                          pathMacroFeature=config['macro_feature_file_valid'],\n",
    "                                          meanMacroFeature=meanMacroFeature,\n",
    "                                          stdMacroFeature=stdMacroFeature)\n",
    "dl_test = data_layer.DataInRamInputLayer(config['individual_feature_file_test'],\n",
    "                                         pathMacroFeature=config['macro_feature_file_test'],\n",
    "                                         meanMacroFeature=meanMacroFeature,\n",
    "                                         stdMacroFeature=stdMacroFeature)"
   ]
  },
  {
   "cell_type": "markdown",
   "metadata": {},
   "source": [
    "##### Load Model"
   ]
  },
  {
   "cell_type": "code",
   "execution_count": 4,
   "metadata": {
    "collapsed": true,
    "jupyter": {
     "outputs_hidden": true
    }
   },
   "outputs": [],
   "source": [
    "tf.reset_default_graph()\n",
    "global_step = tf.train.get_or_create_global_step()\n",
    "model = FeedForwardModelWithNA_GAN_Ensembled(logdirs, config, 'test', config['tSize'], global_step=global_step)\n",
    "model_valid = FeedForwardModelWithNA_GAN_Ensembled(logdirs, config, 'test', config['tSize_valid'], force_var_reuse=True, global_step=global_step)\n",
    "model_test = FeedForwardModelWithNA_GAN_Ensembled(logdirs, config, 'test', config['tSize_test'], force_var_reuse=True, global_step=global_step)\n",
    "model_plot = FeedForwardModelWithNA_GAN_Ensembled(logdirs, config, 'plot', 1, force_var_reuse=True, global_step=global_step)\n",
    "gpu_options = tf.GPUOptions(allow_growth=True)\n",
    "sess_config = tf.ConfigProto(gpu_options=gpu_options)\n",
    "sess = tf.Session(config=sess_config)"
   ]
  },
  {
   "cell_type": "code",
   "execution_count": null,
   "metadata": {
    "collapsed": true,
    "jupyter": {
     "outputs_hidden": true
    }
   },
   "outputs": [],
   "source": [
    "INITIAL_train = model.getZeroInitialState()\n",
    "INITIAL_valid = model.getNextInitialState(sess, dl, initial_state=INITIAL_train)\n",
    "INITIAL_test = model_valid.getNextInitialState(sess, dl_valid, initial_state=INITIAL_valid)"
   ]
  },
  {
   "cell_type": "markdown",
   "metadata": {},
   "source": [
    "##### Model Performance"
   ]
  },
  {
   "cell_type": "code",
   "execution_count": null,
   "metadata": {
    "collapsed": true,
    "jupyter": {
     "outputs_hidden": true
    }
   },
   "outputs": [],
   "source": [
    "w = model.getWeightWithData(sess, dl, initial_state=INITIAL_train, normalized=True)\n",
    "w_valid = model_valid.getWeightWithData(sess, dl_valid, initial_state=INITIAL_valid, normalized=True)\n",
    "w_test = model_test.getWeightWithData(sess, dl_test, initial_state=INITIAL_test, normalized=True)"
   ]
  },
  {
   "cell_type": "code",
   "execution_count": null,
   "metadata": {
    "collapsed": true,
    "jupyter": {
     "outputs_hidden": true
    }
   },
   "outputs": [],
   "source": [
    "Ftrain = model.getNormalizedSDFFactor(sess, dl, initial_state=INITIAL_train)\n",
    "Fvalid = model_valid.getNormalizedSDFFactor(sess, dl_valid, initial_state=INITIAL_valid)\n",
    "Ftest = model_test.getNormalizedSDFFactor(sess, dl_test, initial_state=INITIAL_test)\n",
    "sdf_norm_ensemble = np.concatenate([Ftrain, Fvalid, Ftest])\n",
    "np.save(os.path.join(logdir, 'sdf_normalized_ensemble.npy'), sdf_norm_ensemble)"
   ]
  },
  {
   "cell_type": "code",
   "execution_count": 8,
   "metadata": {
    "scrolled": true
   },
   "outputs": [
    {
     "name": "stdout",
     "output_type": "stream",
     "text": [
      ">==================> SDF Portfolio Sharpe Ratio: Train 3.02\tValid 1.39\tTest 0.77\n"
     ]
    }
   ],
   "source": [
    "SR_train = sharpe(Ftrain)\n",
    "SR_valid = sharpe(Fvalid)\n",
    "SR_test = sharpe(Ftest)\n",
    "deco_print('SDF Portfolio Sharpe Ratio: Train %0.2f\\tValid %0.2f\\tTest %0.2f' %(SR_train, SR_valid, SR_test))"
   ]
  },
  {
   "cell_type": "markdown",
   "metadata": {},
   "source": [
    "##### Predictive Performance"
   ]
  },
  {
   "cell_type": "code",
   "execution_count": 9,
   "metadata": {
    "collapsed": true,
    "jupyter": {
     "outputs_hidden": true
    }
   },
   "outputs": [],
   "source": [
    "tf.reset_default_graph()\n",
    "global_step = tf.train.get_or_create_global_step()\n",
    "model_plot_RF = FeedForwardModelWithNA_Return_Ensembled(logdirs_RF, config_RF, 'plot', global_step=global_step)\n",
    "gpu_options = tf.GPUOptions(allow_growth=True)\n",
    "sess_config = tf.ConfigProto(gpu_options=gpu_options)\n",
    "sess = tf.Session(config=sess_config)"
   ]
  },
  {
   "cell_type": "code",
   "execution_count": 10,
   "metadata": {
    "collapsed": true,
    "jupyter": {
     "outputs_hidden": true
    }
   },
   "outputs": [],
   "source": [
    "dl_RF_train = data_layer.DataInRamInputLayer(config['individual_feature_file'])\n",
    "dl_RF_valid = data_layer.DataInRamInputLayer(config['individual_feature_file_valid'])\n",
    "dl_RF_test = data_layer.DataInRamInputLayer(config['individual_feature_file_test'])"
   ]
  },
  {
   "cell_type": "code",
   "execution_count": null,
   "metadata": {
    "collapsed": true,
    "jupyter": {
     "outputs_hidden": true
    }
   },
   "outputs": [],
   "source": [
    "beta_train = model_plot_RF.getPrediction(sess, dl_RF_train)\n",
    "beta_valid = model_plot_RF.getPrediction(sess, dl_RF_valid)\n",
    "beta_test = model_plot_RF.getPrediction(sess, dl_RF_test)"
   ]
  },
  {
   "cell_type": "code",
   "execution_count": 12,
   "metadata": {
    "collapsed": true,
    "jupyter": {
     "outputs_hidden": true
    }
   },
   "outputs": [],
   "source": [
    "# EV, XS-R2\n",
    "EV_train, XSR2_train, WXSR2_train = calculateStatistics(beta_train, dl)\n",
    "EV_valid, XSR2_valid, WXSR2_valid = calculateStatistics(beta_valid, dl_valid)\n",
    "EV_test, XSR2_test, WXSR2_test = calculateStatistics(beta_test, dl_test)"
   ]
  },
  {
   "cell_type": "code",
   "execution_count": 13,
   "metadata": {},
   "outputs": [
    {
     "name": "stdout",
     "output_type": "stream",
     "text": [
      ">==================> Explained Variation: Train 0.18\tValid 0.08\tTest 0.07\n",
      ">==================> XS-R2: Train -0.02\tValid 0.04\tTest 0.04\n",
      ">==================> (Weighted) XS-R2: Train 0.12\tValid 0.00\tTest 0.22\n"
     ]
    }
   ],
   "source": [
    "deco_print('Explained Variation: Train %0.2f\\tValid %0.2f\\tTest %0.2f' %(EV_train, EV_valid, EV_test))\n",
    "deco_print('XS-R2: Train %0.2f\\tValid %0.2f\\tTest %0.2f' %(XSR2_train, XSR2_valid, XSR2_test))\n",
    "deco_print('(Weighted) XS-R2: Train %0.2f\\tValid %0.2f\\tTest %0.2f' %(WXSR2_train, WXSR2_valid, WXSR2_test))"
   ]
  },
  {
   "cell_type": "code",
   "execution_count": null,
   "metadata": {
    "collapsed": true,
    "jupyter": {
     "outputs_hidden": true
    }
   },
   "outputs": [],
   "source": []
  }
 ],
 "metadata": {
  "kernelspec": {
   "display_name": "Python 3",
   "language": "python",
   "name": "python3"
  },
  "language_info": {
   "codemirror_mode": {
    "name": "ipython",
    "version": 3
   },
   "file_extension": ".py",
   "mimetype": "text/x-python",
   "name": "python",
   "nbconvert_exporter": "python",
   "pygments_lexer": "ipython3",
   "version": "3.8.5"
  }
 },
 "nbformat": 4,
 "nbformat_minor": 4
}
